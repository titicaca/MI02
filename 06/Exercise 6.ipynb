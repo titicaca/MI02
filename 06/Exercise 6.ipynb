{
 "metadata": {
  "name": "Exercise 6"
 },
 "nbformat": 3,
 "nbformat_minor": 0,
 "worksheets": [
  {
   "cells": [
    {
     "cell_type": "markdown",
     "metadata": {},
     "source": [
      "Density Transformations & ICA\n",
      "============================="
     ]
    },
    {
     "cell_type": "markdown",
     "metadata": {},
     "source": [
      "#6.1 Density Transformations"
     ]
    },
    {
     "cell_type": "markdown",
     "metadata": {},
     "source": [
      "#6.3 ICA"
     ]
    },
    {
     "cell_type": "markdown",
     "metadata": {},
     "source": [
      "##Initialization"
     ]
    },
    {
     "cell_type": "code",
     "collapsed": false,
     "input": [
      "from numpy import *\n",
      "import random\n",
      "\n",
      "#read data from pca2.csv\n",
      "data01 = loadtxt('sounds/sound1.dat', unpack = True )\n",
      "data02 = loadtxt('sounds/sound2.dat', unpack = True )\n",
      "source = matrix([data01,data02])\n",
      "\n",
      "#create a random mixing matrix A and mix the sources: x = As\n",
      "random.seed(100)\n",
      "A = matrix([[random.random(),random.random()],[random.random(),random.random()]])\n",
      "print \"Matrix A is:\"\n",
      "print A\n",
      "mix = A * source\n",
      "length = source.shape[1]\n",
      "\n",
      "\n",
      "#permute the columns of N x p data matrix mix randomly\n",
      "tmpCol = matrix([[0],[0]])\n",
      "for i in range (length):\n",
      "    colNo = random.randint(0, length-1)\n",
      "    tmpCol = mix[:,colNo]\n",
      "    mix[:,colNo] = mix[:,i]\n",
      "    mix[:,i] = tmpCol\n",
      "    \n",
      "#Calculate the correlations between the sources and the mixtures\n",
      "correlation = matrix([[0.],[0.]])\n",
      "correlation[0,0] = corrcoef([source[0,i] for i in range (length)] , [mix[0,j] for j in range (length)])[0,1]\n",
      "correlation[1,0] = corrcoef([source[1,i] for i in range (length)] , [mix[1,j] for j in range (length)])[0,1]    \n",
      "print \"Correlation between S and X:\"\n",
      "print correlation\n",
      "\n",
      "#center the data to zero man\n",
      "X = matrix([data01,data02])\n",
      "for i in range (length):\n",
      "    X[:,i] = mix[:,i] - mix.mean(1) \n",
      "\n",
      "#initialize the unmixing matrix W with random values\n",
      "W = matrix([[random.random(), random.random()],[random.random(),random.random()]])\n",
      "print \"Init-Matrix W: \"\n",
      "print W\n"
     ],
     "language": "python",
     "metadata": {},
     "outputs": [
      {
       "output_type": "stream",
       "stream": "stdout",
       "text": [
        "Matrix A is:\n",
        "[[ 0.14566926  0.454927  ]\n",
        " [ 0.77078381  0.70551323]]\n",
        "Correlation between S and X:"
       ]
      },
      {
       "output_type": "stream",
       "stream": "stdout",
       "text": [
        "\n",
        "[[ 0.11071182]\n",
        " [ 0.24131383]]\n",
        "Init-Matrix W: "
       ]
      },
      {
       "output_type": "stream",
       "stream": "stdout",
       "text": [
        "\n",
        "[[ 0.73562372  0.57383853]\n",
        " [ 0.92237932  0.87269219]]\n"
       ]
      }
     ],
     "prompt_number": 89
    },
    {
     "cell_type": "markdown",
     "metadata": {},
     "source": [
      "##Optimization"
     ]
    },
    {
     "cell_type": "markdown",
     "metadata": {},
     "source": [
      "$$f(x) = \\frac{1}{1+e ^{-x}} $$  \n",
      "\n",
      "$$f'(x) = f(x) * (1 - f(x)) $$  \n",
      "\n",
      "$$ f''(x) = f'(x) - 2f'(x)f(x) $$"
     ]
    },
    {
     "cell_type": "markdown",
     "metadata": {},
     "source": [
      "###a.) Gradient Ascent"
     ]
    },
    {
     "cell_type": "code",
     "collapsed": false,
     "input": [
      "#function f(x)\n",
      "def f(x):\n",
      "    return 1/(1+ math.exp(-x))\n",
      "\n",
      "#function f'(x)\n",
      "def f_1st(x):\n",
      "    return f(x) * (1-f(x))\n",
      "\n",
      "#function f''(x)\n",
      "def f_2nd(x):\n",
      "    return f_1st(x) - 2*f_1st(x)*f(x)\n",
      "\n",
      "iteration = 18000\n",
      "rate_init =0.5\n",
      "\n",
      "delta_W = matrix([[0,0],[0,0]])\n",
      "\n",
      "for t in range(1 , iteration):\n",
      "    alpha = iteration % length\n",
      "    rate = rate_init / t  \n",
      "    for i in range(2):\n",
      "        sum_WikXk = 0\n",
      "        for k in range(2):\n",
      "                sum_WikXk += W[i,k] * X[k,alpha]\n",
      "        for j in range(2):\n",
      "            delta_W[i,j] = rate * ( W.T[j,i] + f_2nd(sum_WikXk) / f_1st(sum_WikXk) * X[j,alpha] )\n",
      "    \n",
      "    W = W - delta_W   \n",
      "    \n",
      "print W"
     ],
     "language": "python",
     "metadata": {},
     "outputs": [
      {
       "output_type": "stream",
       "stream": "stdout",
       "text": [
        "[[ 0.73562372  0.57383853]\n",
        " [ 0.92237932  0.87269219]]\n"
       ]
      }
     ],
     "prompt_number": 99
    }
   ],
   "metadata": {}
  }
 ]
}