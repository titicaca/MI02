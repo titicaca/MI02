{
 "metadata": {
  "name": "Untitled0"
 },
 "nbformat": 3,
 "nbformat_minor": 0,
 "worksheets": [
  {
   "cells": [
    {
     "cell_type": "markdown",
     "metadata": {},
     "source": [
      "*****"
     ]
    },
    {
     "cell_type": "markdown",
     "metadata": {},
     "source": [
      "------------"
     ]
    },
    {
     "cell_type": "markdown",
     "metadata": {},
     "source": [
      "Machine Intelligence II  SS2013\n",
      "===============================\n",
      "Exercise 05\n",
      "-------------------\n",
      "\n",
      "#Header 1\n",
      "\n",
      "##Header 1.1\n",
      "\n",
      "###Header 1.1.1\n",
      "\n",
      "#Header 2\n"
     ]
    },
    {
     "cell_type": "markdown",
     "metadata": {},
     "source": []
    },
    {
     "cell_type": "markdown",
     "metadata": {},
     "source": [
      "This is [file]() *reference* style link.\n",
      "\n"
     ]
    },
    {
     "cell_type": "markdown",
     "metadata": {},
     "source": [
      "$$\\int\\frac{1}{x} dx = \\ln|x|+C $$ \n",
      "\n",
      "$$\\lim_{n\\to\\infty}\\frac{1}{n}=0$$\n",
      "\n",
      "$$2\\sin x \\cos x = \\sin 2x $$\n",
      "\n",
      "$$ \\sqrt{2}\\cdot\\sqrt[4]{8} = \\sqrt[4]{8} $$"
     ]
    },
    {
     "cell_type": "markdown",
     "metadata": {},
     "source": []
    },
    {
     "cell_type": "markdown",
     "metadata": {},
     "source": [
      "$$\n",
      "\\[a^2\\]\n",
      "$$"
     ]
    },
    {
     "cell_type": "code",
     "collapsed": false,
     "input": [],
     "language": "python",
     "metadata": {},
     "outputs": []
    }
   ],
   "metadata": {}
  }
 ]
}